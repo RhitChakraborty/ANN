{
  "nbformat": 4,
  "nbformat_minor": 0,
  "metadata": {
    "colab": {
      "name": "artificial_neural_network.ipynb",
      "provenance": [],
      "collapsed_sections": []
    },
    "kernelspec": {
      "name": "python3",
      "display_name": "Python 3"
    }
  },
  "cells": [
    {
      "cell_type": "markdown",
      "metadata": {
        "id": "3cbb7fRy-eyr",
        "colab_type": "text"
      },
      "source": [
        "# Artificial Neural Network"
      ]
    },
    {
      "cell_type": "markdown",
      "metadata": {
        "id": "8sNDnxE2-pwE",
        "colab_type": "text"
      },
      "source": [
        "### Importing the libraries"
      ]
    },
    {
      "cell_type": "code",
      "metadata": {
        "id": "lxChR1Rk-umf",
        "colab_type": "code",
        "colab": {}
      },
      "source": [
        "import numpy as np\n",
        "import pandas as pd\n",
        "import tensorflow as tf"
      ],
      "execution_count": 1,
      "outputs": []
    },
    {
      "cell_type": "code",
      "metadata": {
        "id": "uBTqR3nacj0e",
        "colab_type": "code",
        "colab": {
          "base_uri": "https://localhost:8080/",
          "height": 35
        },
        "outputId": "4f02c59d-17b5-4e64-c9bf-af26e9b87ace"
      },
      "source": [
        "tf.__version__"
      ],
      "execution_count": 2,
      "outputs": [
        {
          "output_type": "execute_result",
          "data": {
            "application/vnd.google.colaboratory.intrinsic": {
              "type": "string"
            },
            "text/plain": [
              "'2.2.0'"
            ]
          },
          "metadata": {
            "tags": []
          },
          "execution_count": 2
        }
      ]
    },
    {
      "cell_type": "markdown",
      "metadata": {
        "id": "AG3FQEch-yuA",
        "colab_type": "text"
      },
      "source": [
        "## Part 1 - Data Preprocessing"
      ]
    },
    {
      "cell_type": "markdown",
      "metadata": {
        "id": "-4zq8Mza_D9O",
        "colab_type": "text"
      },
      "source": [
        "### Importing the dataset"
      ]
    },
    {
      "cell_type": "code",
      "metadata": {
        "id": "B9CV13Co_HHM",
        "colab_type": "code",
        "colab": {}
      },
      "source": [
        "dataset = pd.read_excel('Folds5x2_pp.xlsx')\n",
        "X = dataset.iloc[:, :-1].values\n",
        "y = dataset.iloc[:, -1].values"
      ],
      "execution_count": 3,
      "outputs": []
    },
    {
      "cell_type": "markdown",
      "metadata": {
        "id": "VC6omXel_Up0",
        "colab_type": "text"
      },
      "source": [
        "### Splitting the dataset into the Training set and Test set"
      ]
    },
    {
      "cell_type": "code",
      "metadata": {
        "id": "L5edeb2r_agx",
        "colab_type": "code",
        "colab": {}
      },
      "source": [
        "from sklearn.model_selection import train_test_split\n",
        "X_train, X_test, y_train, y_test = train_test_split(X, y, test_size = 0.2, random_state = 0)"
      ],
      "execution_count": 4,
      "outputs": []
    },
    {
      "cell_type": "markdown",
      "metadata": {
        "id": "_mSLlAT9_eyI",
        "colab_type": "text"
      },
      "source": [
        "## Part 2 - Building the ANN"
      ]
    },
    {
      "cell_type": "markdown",
      "metadata": {
        "id": "CsBULd_f_wLY",
        "colab_type": "text"
      },
      "source": [
        "### Initializing the ANN"
      ]
    },
    {
      "cell_type": "code",
      "metadata": {
        "id": "J6Hd97Ls__Nz",
        "colab_type": "code",
        "colab": {}
      },
      "source": [
        "ann = tf.keras.models.Sequential()"
      ],
      "execution_count": 5,
      "outputs": []
    },
    {
      "cell_type": "markdown",
      "metadata": {
        "id": "iitAFJS_ABUn",
        "colab_type": "text"
      },
      "source": [
        "### Adding the input layer and the first hidden layer"
      ]
    },
    {
      "cell_type": "code",
      "metadata": {
        "id": "ksO_Vv40AHix",
        "colab_type": "code",
        "colab": {}
      },
      "source": [
        "ann.add(tf.keras.layers.Dense(units=6, activation='relu'))"
      ],
      "execution_count": 6,
      "outputs": []
    },
    {
      "cell_type": "markdown",
      "metadata": {
        "id": "-lb4kK_wAKbs",
        "colab_type": "text"
      },
      "source": [
        "### Adding the second hidden layer"
      ]
    },
    {
      "cell_type": "code",
      "metadata": {
        "id": "c2357OqEAQOQ",
        "colab_type": "code",
        "colab": {}
      },
      "source": [
        "ann.add(tf.keras.layers.Dense(units=6, activation='relu'))"
      ],
      "execution_count": 7,
      "outputs": []
    },
    {
      "cell_type": "markdown",
      "metadata": {
        "id": "jwMOmKb3AdBY",
        "colab_type": "text"
      },
      "source": [
        "### Adding the output layer"
      ]
    },
    {
      "cell_type": "code",
      "metadata": {
        "id": "YFATpzsUAkLL",
        "colab_type": "code",
        "colab": {}
      },
      "source": [
        "ann.add(tf.keras.layers.Dense(units=1))"
      ],
      "execution_count": 8,
      "outputs": []
    },
    {
      "cell_type": "markdown",
      "metadata": {
        "id": "fq7e4fF6A1yy",
        "colab_type": "text"
      },
      "source": [
        "## Part 3 - Training the ANN"
      ]
    },
    {
      "cell_type": "markdown",
      "metadata": {
        "id": "qDeylAs2An25",
        "colab_type": "text"
      },
      "source": [
        "### Compiling the ANN"
      ]
    },
    {
      "cell_type": "code",
      "metadata": {
        "id": "pesgbWlCAtB4",
        "colab_type": "code",
        "colab": {}
      },
      "source": [
        "ann.compile(optimizer = 'adam', loss = 'mean_squared_error')"
      ],
      "execution_count": 9,
      "outputs": []
    },
    {
      "cell_type": "markdown",
      "metadata": {
        "id": "YjVuiybYOo7r",
        "colab_type": "text"
      },
      "source": [
        "### Training the ANN model on the Training set"
      ]
    },
    {
      "cell_type": "code",
      "metadata": {
        "id": "c_vV-tiiA5zn",
        "colab_type": "code",
        "colab": {
          "base_uri": "https://localhost:8080/",
          "height": 1000
        },
        "outputId": "6dbce2b6-64a8-4f5b-877e-a9fe1e34f2f7"
      },
      "source": [
        "ann.fit(X_train, y_train, batch_size = 32, epochs = 100)"
      ],
      "execution_count": 10,
      "outputs": [
        {
          "output_type": "stream",
          "text": [
            "Epoch 1/100\n",
            "240/240 [==============================] - 0s 1ms/step - loss: 30128.9082\n",
            "Epoch 2/100\n",
            "240/240 [==============================] - 0s 1ms/step - loss: 337.8802\n",
            "Epoch 3/100\n",
            "240/240 [==============================] - 0s 1ms/step - loss: 322.2988\n",
            "Epoch 4/100\n",
            "240/240 [==============================] - 0s 1ms/step - loss: 305.6146\n",
            "Epoch 5/100\n",
            "240/240 [==============================] - 0s 1ms/step - loss: 287.4563\n",
            "Epoch 6/100\n",
            "240/240 [==============================] - 0s 1ms/step - loss: 266.7419\n",
            "Epoch 7/100\n",
            "240/240 [==============================] - 0s 1ms/step - loss: 242.8933\n",
            "Epoch 8/100\n",
            "240/240 [==============================] - 0s 1ms/step - loss: 217.5439\n",
            "Epoch 9/100\n",
            "240/240 [==============================] - 0s 1ms/step - loss: 191.4043\n",
            "Epoch 10/100\n",
            "240/240 [==============================] - 0s 1ms/step - loss: 165.8477\n",
            "Epoch 11/100\n",
            "240/240 [==============================] - 0s 1ms/step - loss: 141.4973\n",
            "Epoch 12/100\n",
            "240/240 [==============================] - 0s 1ms/step - loss: 118.8923\n",
            "Epoch 13/100\n",
            "240/240 [==============================] - 0s 2ms/step - loss: 98.2003\n",
            "Epoch 14/100\n",
            "240/240 [==============================] - 0s 2ms/step - loss: 80.3227\n",
            "Epoch 15/100\n",
            "240/240 [==============================] - 0s 1ms/step - loss: 65.8970\n",
            "Epoch 16/100\n",
            "240/240 [==============================] - 0s 1ms/step - loss: 54.7686\n",
            "Epoch 17/100\n",
            "240/240 [==============================] - 0s 1ms/step - loss: 46.9919\n",
            "Epoch 18/100\n",
            "240/240 [==============================] - 0s 1ms/step - loss: 41.8987\n",
            "Epoch 19/100\n",
            "240/240 [==============================] - 0s 1ms/step - loss: 38.4622\n",
            "Epoch 20/100\n",
            "240/240 [==============================] - 0s 1ms/step - loss: 36.4329\n",
            "Epoch 21/100\n",
            "240/240 [==============================] - 0s 1ms/step - loss: 35.0097\n",
            "Epoch 22/100\n",
            "240/240 [==============================] - 0s 1ms/step - loss: 34.3059\n",
            "Epoch 23/100\n",
            "240/240 [==============================] - 0s 1ms/step - loss: 33.3692\n",
            "Epoch 24/100\n",
            "240/240 [==============================] - 0s 1ms/step - loss: 32.4428\n",
            "Epoch 25/100\n",
            "240/240 [==============================] - 0s 1ms/step - loss: 32.0370\n",
            "Epoch 26/100\n",
            "240/240 [==============================] - 0s 1ms/step - loss: 31.3580\n",
            "Epoch 27/100\n",
            "240/240 [==============================] - 0s 1ms/step - loss: 31.4121\n",
            "Epoch 28/100\n",
            "240/240 [==============================] - 0s 1ms/step - loss: 30.7769\n",
            "Epoch 29/100\n",
            "240/240 [==============================] - 0s 1ms/step - loss: 30.1233\n",
            "Epoch 30/100\n",
            "240/240 [==============================] - 0s 1ms/step - loss: 29.5072\n",
            "Epoch 31/100\n",
            "240/240 [==============================] - 0s 1ms/step - loss: 29.0649\n",
            "Epoch 32/100\n",
            "240/240 [==============================] - 0s 1ms/step - loss: 29.0549\n",
            "Epoch 33/100\n",
            "240/240 [==============================] - 0s 1ms/step - loss: 28.8439\n",
            "Epoch 34/100\n",
            "240/240 [==============================] - 0s 1ms/step - loss: 28.6705\n",
            "Epoch 35/100\n",
            "240/240 [==============================] - 0s 1ms/step - loss: 28.4884\n",
            "Epoch 36/100\n",
            "240/240 [==============================] - 0s 1ms/step - loss: 28.8355\n",
            "Epoch 37/100\n",
            "240/240 [==============================] - 0s 1ms/step - loss: 27.5957\n",
            "Epoch 38/100\n",
            "240/240 [==============================] - 0s 1ms/step - loss: 27.7176\n",
            "Epoch 39/100\n",
            "240/240 [==============================] - 0s 1ms/step - loss: 28.1680\n",
            "Epoch 40/100\n",
            "240/240 [==============================] - 0s 1ms/step - loss: 27.6198\n",
            "Epoch 41/100\n",
            "240/240 [==============================] - 0s 1ms/step - loss: 27.3232\n",
            "Epoch 42/100\n",
            "240/240 [==============================] - 0s 1ms/step - loss: 27.5866\n",
            "Epoch 43/100\n",
            "240/240 [==============================] - 0s 1ms/step - loss: 27.3430\n",
            "Epoch 44/100\n",
            "240/240 [==============================] - 0s 1ms/step - loss: 26.9874\n",
            "Epoch 45/100\n",
            "240/240 [==============================] - 0s 1ms/step - loss: 27.4821\n",
            "Epoch 46/100\n",
            "240/240 [==============================] - 0s 1ms/step - loss: 26.8599\n",
            "Epoch 47/100\n",
            "240/240 [==============================] - 0s 1ms/step - loss: 28.2873\n",
            "Epoch 48/100\n",
            "240/240 [==============================] - 0s 1ms/step - loss: 27.4413\n",
            "Epoch 49/100\n",
            "240/240 [==============================] - 0s 1ms/step - loss: 26.7914\n",
            "Epoch 50/100\n",
            "240/240 [==============================] - 0s 1ms/step - loss: 27.0147\n",
            "Epoch 51/100\n",
            "240/240 [==============================] - 0s 1ms/step - loss: 27.3674\n",
            "Epoch 52/100\n",
            "240/240 [==============================] - 0s 1ms/step - loss: 27.4766\n",
            "Epoch 53/100\n",
            "240/240 [==============================] - 0s 1ms/step - loss: 26.7275\n",
            "Epoch 54/100\n",
            "240/240 [==============================] - 0s 1ms/step - loss: 27.2121\n",
            "Epoch 55/100\n",
            "240/240 [==============================] - 0s 1ms/step - loss: 26.7500\n",
            "Epoch 56/100\n",
            "240/240 [==============================] - 0s 1ms/step - loss: 26.8671\n",
            "Epoch 57/100\n",
            "240/240 [==============================] - 0s 1ms/step - loss: 26.3819\n",
            "Epoch 58/100\n",
            "240/240 [==============================] - 0s 1ms/step - loss: 26.6471\n",
            "Epoch 59/100\n",
            "240/240 [==============================] - 0s 1ms/step - loss: 27.6220\n",
            "Epoch 60/100\n",
            "240/240 [==============================] - 0s 1ms/step - loss: 27.1608\n",
            "Epoch 61/100\n",
            "240/240 [==============================] - 0s 1ms/step - loss: 27.0435\n",
            "Epoch 62/100\n",
            "240/240 [==============================] - 0s 1ms/step - loss: 27.0515\n",
            "Epoch 63/100\n",
            "240/240 [==============================] - 0s 1ms/step - loss: 27.0404\n",
            "Epoch 64/100\n",
            "240/240 [==============================] - 0s 1ms/step - loss: 26.8788\n",
            "Epoch 65/100\n",
            "240/240 [==============================] - 0s 1ms/step - loss: 26.6221\n",
            "Epoch 66/100\n",
            "240/240 [==============================] - 0s 1ms/step - loss: 26.8620\n",
            "Epoch 67/100\n",
            "240/240 [==============================] - 0s 1ms/step - loss: 26.8584\n",
            "Epoch 68/100\n",
            "240/240 [==============================] - 0s 1ms/step - loss: 27.0268\n",
            "Epoch 69/100\n",
            "240/240 [==============================] - 0s 1ms/step - loss: 26.8244\n",
            "Epoch 70/100\n",
            "240/240 [==============================] - 0s 1ms/step - loss: 26.5833\n",
            "Epoch 71/100\n",
            "240/240 [==============================] - 0s 1ms/step - loss: 26.8592\n",
            "Epoch 72/100\n",
            "240/240 [==============================] - 0s 1ms/step - loss: 26.4855\n",
            "Epoch 73/100\n",
            "240/240 [==============================] - 0s 1ms/step - loss: 26.3563\n",
            "Epoch 74/100\n",
            "240/240 [==============================] - 0s 1ms/step - loss: 27.0122\n",
            "Epoch 75/100\n",
            "240/240 [==============================] - 0s 1ms/step - loss: 26.5822\n",
            "Epoch 76/100\n",
            "240/240 [==============================] - 0s 1ms/step - loss: 26.5551\n",
            "Epoch 77/100\n",
            "240/240 [==============================] - 0s 1ms/step - loss: 26.2756\n",
            "Epoch 78/100\n",
            "240/240 [==============================] - 0s 1ms/step - loss: 25.8566\n",
            "Epoch 79/100\n",
            "240/240 [==============================] - 0s 1ms/step - loss: 25.5691\n",
            "Epoch 80/100\n",
            "240/240 [==============================] - 0s 1ms/step - loss: 26.2669\n",
            "Epoch 81/100\n",
            "240/240 [==============================] - 0s 1ms/step - loss: 25.7376\n",
            "Epoch 82/100\n",
            "240/240 [==============================] - 0s 1ms/step - loss: 25.7423\n",
            "Epoch 83/100\n",
            "240/240 [==============================] - 0s 1ms/step - loss: 25.0338\n",
            "Epoch 84/100\n",
            "240/240 [==============================] - 0s 1ms/step - loss: 25.2992\n",
            "Epoch 85/100\n",
            "240/240 [==============================] - 0s 1ms/step - loss: 25.4411\n",
            "Epoch 86/100\n",
            "240/240 [==============================] - 0s 1ms/step - loss: 24.5718\n",
            "Epoch 87/100\n",
            "240/240 [==============================] - 0s 1ms/step - loss: 25.2029\n",
            "Epoch 88/100\n",
            "240/240 [==============================] - 0s 1ms/step - loss: 24.9018\n",
            "Epoch 89/100\n",
            "240/240 [==============================] - 0s 1ms/step - loss: 24.8188\n",
            "Epoch 90/100\n",
            "240/240 [==============================] - 0s 1ms/step - loss: 24.8664\n",
            "Epoch 91/100\n",
            "240/240 [==============================] - 0s 1ms/step - loss: 24.3543\n",
            "Epoch 92/100\n",
            "240/240 [==============================] - 0s 1ms/step - loss: 24.7818\n",
            "Epoch 93/100\n",
            "240/240 [==============================] - 0s 1ms/step - loss: 24.5766\n",
            "Epoch 94/100\n",
            "240/240 [==============================] - 0s 1ms/step - loss: 24.7407\n",
            "Epoch 95/100\n",
            "240/240 [==============================] - 0s 1ms/step - loss: 24.6208\n",
            "Epoch 96/100\n",
            "240/240 [==============================] - 0s 1ms/step - loss: 24.4298\n",
            "Epoch 97/100\n",
            "240/240 [==============================] - 0s 1ms/step - loss: 24.8040\n",
            "Epoch 98/100\n",
            "240/240 [==============================] - 0s 1ms/step - loss: 24.5956\n",
            "Epoch 99/100\n",
            "240/240 [==============================] - 0s 1ms/step - loss: 24.8263\n",
            "Epoch 100/100\n",
            "240/240 [==============================] - 0s 1ms/step - loss: 25.0804\n"
          ],
          "name": "stdout"
        },
        {
          "output_type": "execute_result",
          "data": {
            "text/plain": [
              "<tensorflow.python.keras.callbacks.History at 0x7f952b8f7b00>"
            ]
          },
          "metadata": {
            "tags": []
          },
          "execution_count": 10
        }
      ]
    },
    {
      "cell_type": "markdown",
      "metadata": {
        "id": "0H0zKKNEBLD5",
        "colab_type": "text"
      },
      "source": [
        "### Predicting the results of the Test set"
      ]
    },
    {
      "cell_type": "code",
      "metadata": {
        "id": "IA0yApEmBG1X",
        "colab_type": "code",
        "colab": {
          "base_uri": "https://localhost:8080/",
          "height": 136
        },
        "outputId": "380a328f-0a1b-4b65-dbb1-563ef986b233"
      },
      "source": [
        "y_pred = ann.predict(X_test)\n",
        "np.set_printoptions(precision=2)\n",
        "print(np.concatenate((y_pred.reshape(len(y_pred),1), y_test.reshape(len(y_test),1)),1))"
      ],
      "execution_count": 11,
      "outputs": [
        {
          "output_type": "stream",
          "text": [
            "[[433.91 431.23]\n",
            " [462.09 460.01]\n",
            " [467.37 461.14]\n",
            " ...\n",
            " [474.11 473.26]\n",
            " [438.75 438.  ]\n",
            " [459.36 463.28]]\n"
          ],
          "name": "stdout"
        }
      ]
    },
    {
      "cell_type": "code",
      "metadata": {
        "id": "t29zakofQhp-",
        "colab_type": "code",
        "colab": {}
      },
      "source": [
        ""
      ],
      "execution_count": null,
      "outputs": []
    }
  ]
}